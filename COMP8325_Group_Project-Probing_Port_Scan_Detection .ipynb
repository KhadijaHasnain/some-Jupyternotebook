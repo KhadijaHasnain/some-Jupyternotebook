{
 "cells": [
  {
   "cell_type": "code",
   "execution_count": null,
   "id": "logical-circular",
   "metadata": {},
   "outputs": [],
   "source": [
    "# Task1: Anomaly Detection Method 1 For Probing Dataset\n",
    "\n",
    "\n",
    "\n",
    "\n",
    "\n"
   ]
  },
  {
   "cell_type": "code",
   "execution_count": null,
   "id": "difficult-tennis",
   "metadata": {},
   "outputs": [],
   "source": [
    "# Task1: Analysis of Anomaly Detection Method 1 For Probing Dataset\n",
    "\n",
    "\n",
    "\n",
    "\n",
    "\n"
   ]
  },
  {
   "cell_type": "code",
   "execution_count": null,
   "id": "conceptual-nightmare",
   "metadata": {},
   "outputs": [],
   "source": [
    "# Task2: Research Task on Port/Probling Scan Detection\n",
    "\n",
    "\n",
    "\n",
    "\n",
    "'''References\n",
    "\n",
    "[1] Gustavo de Carvalho Bertoli, Lourenço Alves Pereira Júnior, Filipe Alves Neto Verri, & Osamu Saotome,\n",
    "Probing Dataset (Version v1.0.0) [Data set]. Zenodo. http://doi.org/10.5281/zenodo.3558350\n",
    "\n",
    "[2] Fontugne, R., Borgnat, P., Abry, P., & Fukuda, K.,  Mawilab: combining diverse anomaly \n",
    "detectors for automated anomaly labeling and performance benchmarking. In Proceedings of the 6th International \n",
    "Conference, 2010\n",
    "\n",
    "'''\n",
    "\n"
   ]
  }
 ],
 "metadata": {
  "kernelspec": {
   "display_name": "Python 3",
   "language": "python",
   "name": "python3"
  },
  "language_info": {
   "codemirror_mode": {
    "name": "ipython",
    "version": 3
   },
   "file_extension": ".py",
   "mimetype": "text/x-python",
   "name": "python",
   "nbconvert_exporter": "python",
   "pygments_lexer": "ipython3",
   "version": "3.6.9"
  }
 },
 "nbformat": 4,
 "nbformat_minor": 5
}
