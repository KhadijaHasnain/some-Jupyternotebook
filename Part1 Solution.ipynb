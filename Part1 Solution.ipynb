{
  "nbformat": 4,
  "nbformat_minor": 0,
  "metadata": {
    "colab": {
      "provenance": [],
      "collapsed_sections": [
        "_ncGfxWvjKdN",
        "7k1nCrBdloDj",
        "wezZvHE_qaSQ",
        "7NzbfX7KRVs_",
        "pUP89Gw8qGSg"
      ]
    },
    "kernelspec": {
      "display_name": "Python 3",
      "name": "python3"
    }
  },
  "cells": [
    {
      "cell_type": "code",
      "metadata": {
        "colab": {
          "base_uri": "https://localhost:8080/"
        },
        "id": "uhVHdqRlgcMt",
        "outputId": "27164173-60ba-4178-c1e6-98eb2f82b1f7"
      },
      "source": [
        "!pip install PYroMat #This line tells Python to import the PYroMat library\n",
        "import pyromat as pm #OPTIONAL: This line renames PYroMat as \"pm\" to easily reference througout the notebook"
      ],
      "execution_count": 1,
      "outputs": [
        {
          "output_type": "stream",
          "name": "stdout",
          "text": [
            "Collecting PYroMat\n",
            "  Downloading PYroMat-2.2.4.zip (1.0 MB)\n",
            "\u001b[2K     \u001b[90m━━━━━━━━━━━━━━━━━━━━━━━━━━━━━━━━━━━━━━━━\u001b[0m \u001b[32m1.0/1.0 MB\u001b[0m \u001b[31m4.8 MB/s\u001b[0m eta \u001b[36m0:00:00\u001b[0m\n",
            "\u001b[?25h  Preparing metadata (setup.py) ... \u001b[?25l\u001b[?25hdone\n",
            "Requirement already satisfied: numpy>=1.7 in /usr/local/lib/python3.10/dist-packages (from PYroMat) (1.25.2)\n",
            "Building wheels for collected packages: PYroMat\n",
            "  Building wheel for PYroMat (setup.py) ... \u001b[?25l\u001b[?25hdone\n",
            "  Created wheel for PYroMat: filename=PYroMat-2.2.4-py3-none-any.whl size=1009751 sha256=75724b5cc4e0250d7a510a527aa8977f5979be5a246219de511bdc616caab402\n",
            "  Stored in directory: /root/.cache/pip/wheels/ac/a6/c0/a9ccb2f23445c0a49467f88368ea611126b22011c53a91ee51\n",
            "Successfully built PYroMat\n",
            "Installing collected packages: PYroMat\n",
            "Successfully installed PYroMat-2.2.4\n"
          ]
        }
      ]
    },
    {
      "cell_type": "markdown",
      "metadata": {
        "id": "_ncGfxWvjKdN"
      },
      "source": [
        "## Part 1 Deliverables"
      ]
    },
    {
      "cell_type": "markdown",
      "metadata": {
        "id": "wdSTCKtljb_X"
      },
      "source": [
        "**1.1 Property Retrieval**\n",
        "\n",
        "Six water and refrigerant states are provided. A refrigerant is a working fluid that is commonly used in HVAC systems. R-134a is a popular hydrocarbon choice in such systems. There are however some missing thermodynamic properties that you must evaluate using the PYroMat library. You can use any two properties to evaluate the missing values.\n",
        "\n",
        "\\begin{array}{cccccc}\n",
        "\\mbox{State}&\\mbox{Fluid}&T\\mbox{ [K]}&h\\mbox{ [kJ/kg]}&P\\mbox{ [kPa]}&x\\mbox{ [%]}\\\\\n",
        "1&\\mbox{Water}&393.35&h_1&200&\\mbox{undefined}\\\\\n",
        "2&\\mbox{Water}&372.76&2137&100&x_2\\\\\n",
        "3&\\mbox{Water}&453.05&h_3&1000&\\mbox{undefined}\\\\\n",
        "4&\\mbox{R134a}&T_4&201.01&380&\\mbox{undefined}\\\\\n",
        "5&\\mbox{R134a}&322.59&h_5&1299.545&70\\\\\n",
        "6&\\mbox{R134a}&360&h_6&3043.8&\\mbox{undefined}\\\\\n",
        "& & & & &\n",
        "\\end{array}\n",
        "\n",
        "> Evaluate $h_1%$, $x_2%$, $h_3%$, $T_4%$, $h_5%$, and $h_6%$ in the code segments provided below. Remember to organize your code for readabilty. Comment where necessary.\n",
        "\n",
        "This exercise did not involve entropy or internal energy. Make sure you know how to compute properties given those as state parameters instead. Those functions will be very handy for the later exercises."
      ]
    },
    {
      "cell_type": "code",
      "source": [
        "# State 1, evaluate h_1_11\n",
        "import pyromat as pm\n",
        "\n",
        "# Initialize the substances\n",
        "H2O = pm.get('mp.H2O')\n",
        "R134a = pm.get('mp.C2H2F4')\n",
        "\n",
        "# Given data\n",
        "T = [393.35, 372.76, 453.05, None, 322.59, 360]  # Temperature in K\n",
        "h = [None, 2137, None, 3201.01, None, None]  # Enthalpy in kJ/kg\n",
        "P = [200, 100, 100, 380, 1299.54, 3043.8]  # Pressure in kPa\n",
        "x = [None, None, None, None, 70, None]  # Quality in %\n",
        "\n",
        "# Convert pressures to MPa for PYroMat compatibility\n",
        "P = [p / 1000 for p in P]\n",
        "\n",
        "# Solve for h1\n",
        "h1 = H2O.h(T=T[0], p=P[0])\n",
        "print(f\"h1 = {h1[0]:.2f} kJ/kg\")\n"
      ],
      "metadata": {
        "colab": {
          "base_uri": "https://localhost:8080/"
        },
        "id": "Tkr8Q91_s9Y1",
        "outputId": "aaf11f1e-db0e-4e3e-9232-29549578d54c"
      },
      "execution_count": 19,
      "outputs": [
        {
          "output_type": "stream",
          "name": "stdout",
          "text": [
            "h1 = 2726.95 kJ/kg\n"
          ]
        }
      ]
    },
    {
      "cell_type": "code",
      "metadata": {
        "id": "AOTXoc6vjjsj",
        "colab": {
          "base_uri": "https://localhost:8080/"
        },
        "outputId": "71ed038b-7f40-421e-b030-648fba038516"
      },
      "source": [
        "# State 2, evaluate x_2_11\n",
        "\n",
        "# Calculate the saturation properties at T2\n",
        "Psat2 = H2O.ps(T=T[1])\n",
        "h_f2 = H2O.h(T=T[1], x=0)[0]  # Saturation liquid enthalpy\n",
        "h_g2 = H2O.h(T=T[1], x=1)[0]  # Saturation vapor enthalpy\n",
        "h2 = H2O.h(T=T[1], p=P[1])[0]\n",
        "x2 = (h2 - h_f2) / (h_g2 - h_f2)\n",
        "print(f\"x2 = {x2:.3f}\")"
      ],
      "execution_count": 31,
      "outputs": [
        {
          "output_type": "stream",
          "name": "stdout",
          "text": [
            "x2 = 1.006\n"
          ]
        }
      ]
    },
    {
      "cell_type": "code",
      "metadata": {
        "id": "yICbeQD7jlz1",
        "colab": {
          "base_uri": "https://localhost:8080/"
        },
        "outputId": "d9a08c90-63fb-46c8-a2d5-7245ed58e6fc"
      },
      "source": [
        "# State 3, evaluate h_3_11\n",
        "state3 = H2O.h(T=T[2], p=P[2])\n",
        "h3 = state3[0]\n",
        "print(f\"h3 = {h3:.2f} kJ/kg\")"
      ],
      "execution_count": 21,
      "outputs": [
        {
          "output_type": "stream",
          "name": "stdout",
          "text": [
            "h3 = 2841.20 kJ/kg\n"
          ]
        }
      ]
    },
    {
      "cell_type": "code",
      "metadata": {
        "id": "WCdIEH_ssft0",
        "colab": {
          "base_uri": "https://localhost:8080/"
        },
        "outputId": "ac7d0f4c-e0b9-43bf-fc83-5051f43ce96c"
      },
      "source": [
        "# State 4, evaluate T_4_11\n",
        "# Ensure enthalpy is within the range of acceptable values for R-134a\n",
        "h4_max = R134a.h(T=455, p=70)[0]  # Max temperature and pressure for R-134a\n",
        "h4_min = R134a.h(T=170, p=0.01)[0]  # Min temperature and pressure for R-134a\n",
        "if h[3] < h4_min or h[3] > h4_max:\n",
        "    print(f\"h4 = {h[3]:.2f} kJ/kg is out of range for R-134a\")\n",
        "else:\n",
        "    T4 = R134a.T_h(h=h[3], p=P[3])[0]\n",
        "    print(f\"T4 = {T4:.2f} K\")"
      ],
      "execution_count": 32,
      "outputs": [
        {
          "output_type": "stream",
          "name": "stdout",
          "text": [
            "h4 = 3201.01 kJ/kg is out of range for R-134a\n"
          ]
        }
      ]
    },
    {
      "cell_type": "code",
      "metadata": {
        "id": "na6kKtOSskE1",
        "colab": {
          "base_uri": "https://localhost:8080/"
        },
        "outputId": "e8d98e0d-fc02-49b2-9ac2-97c0fefcaabf"
      },
      "source": [
        "# State 5, evaluate h_5_11\n",
        "h5 = R134a.h(T=T[4], x=x[4] / 100)\n",
        "print(f\"h5 = {h5[0]:.2f} kJ/kg\")"
      ],
      "execution_count": 23,
      "outputs": [
        {
          "output_type": "stream",
          "name": "stdout",
          "text": [
            "h5 = 377.49 kJ/kg\n"
          ]
        }
      ]
    },
    {
      "cell_type": "code",
      "metadata": {
        "id": "B7lHVWOysoF_",
        "colab": {
          "base_uri": "https://localhost:8080/"
        },
        "outputId": "06a76b1f-a7fa-482d-9387-b3eb65c3dff6"
      },
      "source": [
        "# State 6, evaluate h_6_11\n",
        "h6 = R134a.h(T=T[5], p=P[5])\n",
        "print(f\"h6 = {h6[0]:.2f} kJ/kg\")"
      ],
      "execution_count": 24,
      "outputs": [
        {
          "output_type": "stream",
          "name": "stdout",
          "text": [
            "h6 = 481.19 kJ/kg\n"
          ]
        }
      ]
    }
  ]
}