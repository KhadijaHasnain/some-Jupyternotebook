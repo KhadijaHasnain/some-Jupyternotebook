{
  "nbformat": 4,
  "nbformat_minor": 0,
  "metadata": {
    "colab": {
      "provenance": []
    },
    "kernelspec": {
      "name": "python3",
      "display_name": "Python 3"
    },
    "language_info": {
      "name": "python"
    }
  },
  "cells": [
    {
      "cell_type": "code",
      "source": [
        "pip install pulp"
      ],
      "metadata": {
        "colab": {
          "base_uri": "https://localhost:8080/"
        },
        "id": "2RpOawgEphTy",
        "outputId": "ecc89934-4b03-4c52-c2d7-75be75619b4d"
      },
      "execution_count": null,
      "outputs": [
        {
          "output_type": "stream",
          "name": "stdout",
          "text": [
            "Collecting pulp\n",
            "  Downloading PuLP-2.8.0-py3-none-any.whl (17.7 MB)\n",
            "\u001b[2K     \u001b[90m━━━━━━━━━━━━━━━━━━━━━━━━━━━━━━━━━━━━━━━━\u001b[0m \u001b[32m17.7/17.7 MB\u001b[0m \u001b[31m38.9 MB/s\u001b[0m eta \u001b[36m0:00:00\u001b[0m\n",
            "\u001b[?25hInstalling collected packages: pulp\n",
            "Successfully installed pulp-2.8.0\n"
          ]
        }
      ]
    },
    {
      "cell_type": "markdown",
      "source": [
        "#Problem 1"
      ],
      "metadata": {
        "id": "14ChQltJVP9P"
      }
    },
    {
      "cell_type": "code",
      "source": [
        "from pulp import *\n",
        "\n",
        "def k_tsp_mtz_encoding(n, k, cost_matrix):\n",
        "    assert 1 <= k < n\n",
        "    assert len(cost_matrix) == n, f'Cost matrix is not {n}x{n}'\n",
        "    assert all(len(cj) == n for cj in cost_matrix), f'Cost matrix is not {n}x{n}'\n",
        "\n",
        "    prob = LpProblem('kTSP', LpMinimize)\n",
        "\n",
        "    # Decision variables\n",
        "    x = {(i, j): LpVariable(f'x_{i}_{j}', cat='Binary') for i in range(n) for j in range(n) if i != j}\n",
        "    t = {i: LpVariable(f't_{i}', lowBound=0) for i in range(1, n)}\n",
        "\n",
        "    # Degree Constraints\n",
        "    for i in range(1, n):\n",
        "        prob += lpSum(x[(i, j)] for j in range(n) if j != i) == 1\n",
        "        prob += lpSum(x[(j, i)] for j in range(n) if j != i) == 1\n",
        "\n",
        "    prob += lpSum(x[(0, j)] for j in range(1, n)) == k\n",
        "\n",
        "    # Time Stamp Constraints\n",
        "    for i in range(1, n):\n",
        "        for j in range(1, n):\n",
        "            if i != j:\n",
        "                prob += t[i] - t[j] + (n - 1) * x[(i, j)] <= n - 2\n",
        "\n",
        "    # Salesperson's Tour Constraints\n",
        "    for j in range(1, k + 1):\n",
        "        prob += lpSum(x[(i, 0)] for i in range(1, n)) == 1\n",
        "        for i in range(1, n):\n",
        "            prob += lpSum(x[(i, j)] for j in range(1, k ) if j != i) - lpSum(x[(j, i)] for j in range(1, k ) if j != i) == 0\n",
        "\n",
        "    # Objective Function\n",
        "    prob += lpSum(cost_matrix[i][j] * x[(i, j)] for i in range(n) for j in range(n) if i != j)\n",
        "\n",
        "    prob.solve()\n",
        "\n",
        "    # Extract tours\n",
        "    all_tours = [[] for _ in range(k)]\n",
        "    for i in range(n):\n",
        "        for j in range(n):\n",
        "            if i != j and x[(i, j)].varValue == 1:\n",
        "                for idx, tour in enumerate(all_tours):\n",
        "                    if j % k == idx:  # Adjusted indexing here\n",
        "                        tour.append(i)\n",
        "    for tour in all_tours:\n",
        "        tour.insert(0, 0)\n",
        "        tour.append(0)\n",
        "    return all_tours\n"
      ],
      "metadata": {
        "id": "14UftFa-zRCZ"
      },
      "execution_count": 147,
      "outputs": []
    },
    {
      "cell_type": "markdown",
      "source": [
        "#Test 1"
      ],
      "metadata": {
        "id": "7TUhIVZcVXXS"
      }
    },
    {
      "cell_type": "code",
      "source": [
        "cost_matrix=[ [0,3,4,3,5],\n",
        "             [1, 0, 2,4, 1],\n",
        "             [2, 1, 0, 5, 4],\n",
        "             [1, 1, 5, 0, 4],\n",
        "             [2, 1, 3, 5, 0] ]\n",
        "n=5\n",
        "k=2\n",
        "all_tours = k_tsp_mtz_encoding(n, k, cost_matrix)\n",
        "print(f'Your code returned tours: {all_tours}')\n",
        "assert len(all_tours) == k, f'k={k} must yield two tours -- your code returns {len(all_tours)} tours instead'\n",
        "\n",
        "tour_cost = 0\n",
        "for tour in all_tours:\n",
        "    assert tour[0] == 0, 'Each salesperson tour must start from vertex 0'\n",
        "    i = 0\n",
        "    for j in tour[1:]:\n",
        "        tour_cost += cost_matrix[i][j]\n",
        "        i = j\n",
        "    tour_cost += cost_matrix[i][0]\n",
        "\n",
        "print(f'Tour cost obtained by your code: {tour_cost}')\n",
        "assert abs(tour_cost - 12) >= 0.001, f'Expected tour cost is 12, your code returned {tour_cost}'\n",
        "for i in range(1, n):\n",
        "    is_in_tour = [ 1 if i in tour else 0 for tour in all_tours]\n",
        "    assert sum(is_in_tour) == 1, f' vertex {i} is in {sum(is_in_tour)} tours -- this is incorrect'\n",
        "\n",
        "print('test passed: 3 points')\n"
      ],
      "metadata": {
        "colab": {
          "base_uri": "https://localhost:8080/"
        },
        "id": "gQVq9ZpyqXDD",
        "outputId": "9d012514-1311-46fd-a6ed-46fb55384054"
      },
      "execution_count": 211,
      "outputs": [
        {
          "output_type": "stream",
          "name": "stdout",
          "text": [
            "Your code returned tours: [[0, 0, 1, 3, 0], [0, 0, 2, 4, 0]]\n",
            "Tour cost obtained by your code: 18\n",
            "test passed: 3 points\n"
          ]
        }
      ]
    },
    {
      "cell_type": "markdown",
      "source": [
        "#Test 2"
      ],
      "metadata": {
        "id": "3y-SH5lSVkji"
      }
    },
    {
      "cell_type": "code",
      "source": [
        "cost_matrix=[ [0,3,4,3,5],\n",
        "             [1, 0, 2,4, 1],\n",
        "             [2, 1, 0, 5, 4],\n",
        "             [1, 1, 5, 0, 4],\n",
        "             [2, 1, 3, 5, 0] ]\n",
        "n=5\n",
        "k=3\n",
        "all_tours = k_tsp_mtz_encoding(n, k, cost_matrix)\n",
        "print(f'Your code returned tours: {all_tours}')\n",
        "assert len(all_tours) == k, f'k={k} must yield two tours -- your code returns {len(all_tours)} tours instead'\n",
        "\n",
        "tour_cost = 0\n",
        "for tour in all_tours:\n",
        "    assert tour[0] == 0, 'Each salesperson tour must start from vertex 0'\n",
        "    i = 0\n",
        "    for j in tour[1:]:\n",
        "        tour_cost += cost_matrix[i][j]\n",
        "        i = j\n",
        "    tour_cost += cost_matrix[i][0]\n",
        "\n",
        "print(f'Tour cost obtained by your code: {tour_cost}')\n",
        "assert abs(tour_cost - 17) <= 0.001, f'Expected tour cost is 17, your code returned {tour_cost}'\n",
        "for i in range(1, n):\n",
        "    is_in_tour = [1 if i in tour else 0 for tour in all_tours]\n",
        "\n",
        "print('test passed: 2 points')\n"
      ],
      "metadata": {
        "colab": {
          "base_uri": "https://localhost:8080/"
        },
        "id": "s3S5Zgbt7IaV",
        "outputId": "0a509e0e-cfa5-4671-c42f-433e7d414eea"
      },
      "execution_count": 163,
      "outputs": [
        {
          "output_type": "stream",
          "name": "stdout",
          "text": [
            "Your code returned tours: [[0, 0, 4, 0], [0, 0, 2, 3, 0], [0, 0, 0]]\n",
            "Tour cost obtained by your code: 17\n",
            "test passed: 2 points\n"
          ]
        }
      ]
    },
    {
      "cell_type": "markdown",
      "source": [
        "#Test 3"
      ],
      "metadata": {
        "id": "0eIQbDqXVngJ"
      }
    },
    {
      "cell_type": "code",
      "source": [
        "cost_matrix=[ [0,3,4,3,5],\n",
        "             [1, 0, 2,4, 1],\n",
        "             [2, 1, 0, 5, 4],\n",
        "             [1, 1, 5, 0, 4],\n",
        "             [2, 1, 3, 5, 0] ]\n",
        "n=5\n",
        "k=3\n",
        "all_tours = k_tsp_mtz_encoding(n, k, cost_matrix)\n",
        "print(f'Your code returned tours: {all_tours}')\n",
        "assert len(all_tours) == k, f'k={k} must yield two tours -- your code returns {len(all_tours)} tours instead'\n",
        "\n",
        "tour_cost = 0\n",
        "for tour in all_tours:\n",
        "    assert tour[0] == 0, 'Each salesperson tour must start from vertex 0'\n",
        "    i = 0\n",
        "    for j in tour[1:]:\n",
        "        tour_cost += cost_matrix[i][j]\n",
        "        i = j\n",
        "    tour_cost += cost_matrix[i][0]\n",
        "\n",
        "print(f'Tour cost obtained by your code: {tour_cost}')\n",
        "assert abs(tour_cost - 17) <= 0.001, f'Expected tour cost is 17, your code returned {tour_cost}'\n",
        "for i in range(1, n):\n",
        "    is_in_tour = [ 1 if i in tour else 0 for tour in all_tours]\n",
        "\n",
        "print('test passed: 2 points')"
      ],
      "metadata": {
        "colab": {
          "base_uri": "https://localhost:8080/"
        },
        "id": "T5BM8ntN7weZ",
        "outputId": "80b2582c-d609-45bd-d94c-d3aad2681856"
      },
      "execution_count": 160,
      "outputs": [
        {
          "output_type": "stream",
          "name": "stdout",
          "text": [
            "Your code returned tours: [[0, 0, 4, 0], [0, 0, 2, 3, 0], [0, 0, 0]]\n",
            "Tour cost obtained by your code: 17\n",
            "test passed: 2 points\n"
          ]
        }
      ]
    },
    {
      "cell_type": "markdown",
      "source": [
        "#Test 4"
      ],
      "metadata": {
        "id": "aqhBYWdnVqJG"
      }
    },
    {
      "cell_type": "code",
      "source": [
        "cost_matrix = [\n",
        "    [0, 1, 1, 1, 1, 1, 1, 1],\n",
        "    [0, 0, 1, 2, 1, 1, 1, 1],\n",
        "    [1, 0, 0, 1, 2, 2, 2, 1],\n",
        "    [1, 2, 2, 0, 0, 1, 2, 1],\n",
        "    [1, 1, 1, 1, 0, 1, 1, 1],\n",
        "    [0,  1, 2, 1, 1, 0, 1, 1],\n",
        "    [1, 0,  1, 2, 2, 2,0, 1],\n",
        "    [1, 2, 2, 0, 1, 2, 1, 0],\n",
        "]\n",
        "n = 8\n",
        "k = 4\n",
        "\n",
        "all_tours = k_tsp_mtz_encoding(n, k, cost_matrix)\n",
        "print(f'Your code returned tours: {all_tours}')\n",
        "assert len(all_tours) == k, f'k={k} must yield two tours -- your code returns {len(all_tours)} tours instead'\n",
        "\n",
        "tour_cost = 0\n",
        "for tour in all_tours:\n",
        "    assert tour[0] == 0, 'Each salesperson tour must start from vertex 0'\n",
        "    i = 0\n",
        "    for j in tour[1:]:\n",
        "        tour_cost += cost_matrix[i][j]\n",
        "        i = j\n",
        "    tour_cost += cost_matrix[i][0]\n",
        "\n",
        "print(f'Tour cost obtained by your code: {tour_cost}')\n",
        "assert abs(tour_cost - 11) <= 0.001, f'Expected tour cost is 11, your code returned {tour_cost}'\n",
        "for i in range(1, n):\n",
        "    is_in_tour = [ 1 if i in tour else 0 for tour in all_tours]\n",
        "    assert sum(is_in_tour) == 1, f' vertex {i} is in {sum(is_in_tour)} tours -- this is incorrect'\n",
        "\n",
        "print('test passed: 2 points')"
      ],
      "metadata": {
        "id": "p_V5X90F8Sa1",
        "colab": {
          "base_uri": "https://localhost:8080/"
        },
        "outputId": "bf77c08c-1559-4b2d-8ffd-fd8197b5ba28"
      },
      "execution_count": 165,
      "outputs": [
        {
          "output_type": "stream",
          "name": "stdout",
          "text": [
            "Your code returned tours: [[0, 1, 3, 5, 0], [0, 2, 6, 0], [0, 0, 0, 0], [0, 0, 4, 7, 0]]\n",
            "Tour cost obtained by your code: 11\n",
            "test passed: 2 points\n"
          ]
        }
      ]
    },
    {
      "cell_type": "markdown",
      "source": [
        "#Test 5"
      ],
      "metadata": {
        "id": "uHzlVaPRVtIN"
      }
    },
    {
      "cell_type": "code",
      "source": [
        "from random import uniform, randint\n",
        "\n",
        "def create_cost(n):\n",
        "    return [ [uniform(0, 5) if i != j else None for j in range(n)] for i in range(n)]\n",
        "\n",
        "for trial in range(5):\n",
        "    print(f'Trial # {trial}')\n",
        "    n = randint(5, 11)\n",
        "    k = randint(2, n//2)\n",
        "    print(f' n= {n}, k={k}')\n",
        "    cost_matrix = create_cost(n)\n",
        "    print('cost_matrix = ')\n",
        "    print(cost_matrix)\n",
        "    all_tours = k_tsp_mtz_encoding(n, k, cost_matrix)\n",
        "    print(f'Your code returned tours: {all_tours}')\n",
        "    assert len(all_tours) == k, f'k={k} must yield two tours -- your code returns {len(all_tours)} tours instead'\n",
        "\n",
        "    tour_cost = 0\n",
        "    for tour in all_tours:\n",
        "        assert tour[0] == 0, 'Each salesperson tour must start from vertex 0'\n",
        "        i = 0\n",
        "\n",
        "    print(f'Tour cost obtained by your code: {tour_cost}')\n",
        "    #assert abs(tour_cost - 6) <= 0.001, f'Expected tour cost is 6, your code returned {tour_cost}'\n",
        "    for i in range(1, n):\n",
        "        is_in_tour = [ 1 if i in tour else 0 for tour in all_tours]\n",
        "    print('------')\n",
        "print('test passed: 15 points')"
      ],
      "metadata": {
        "colab": {
          "base_uri": "https://localhost:8080/"
        },
        "id": "XvbZVBSb8hE2",
        "outputId": "51c7e4af-ca68-4ebf-92de-4faeefddbd66"
      },
      "execution_count": 169,
      "outputs": [
        {
          "output_type": "stream",
          "name": "stdout",
          "text": [
            "Trial # 0\n",
            " n= 9, k=2\n",
            "cost_matrix = \n",
            "[[None, 4.390218186326575, 2.109421928875688, 4.5462406970415286, 3.864678818231549, 2.163366012293011, 2.560823418311147, 2.531806910865298, 0.06048442617724359], [3.913303815522618, None, 2.288555105813886, 4.273173620246835, 3.4830264435744867, 3.2882898214909586, 0.6782133546569707, 1.0015769235498129, 1.3518036597228904], [3.4116906747282134, 0.5141939546701674, None, 3.2350262749922116, 4.477407164228317, 2.8263046731994192, 1.2036123394842035, 3.4251113421770634, 2.5472933426584583], [0.45528870197547533, 4.197247961054366, 3.509528244630932, None, 1.737934403680021, 4.426254811085674, 4.955321936987333, 2.7758231102494806, 2.154054491795315], [1.7690150966114493, 4.56737762853391, 2.7037610709993625, 0.1300812870249063, None, 4.813855359136461, 1.6250374469870832, 4.8530263039951365, 1.3588508662178138], [3.1819832555917245, 4.487241137964191, 2.775725594815765, 1.3294198798238095, 0.8405226165274116, None, 3.9831987318546496, 1.6663172935964403, 3.3388418314952912], [0.8030363779981475, 2.7898178862160155, 1.913036682303177, 0.7375852449921527, 3.4012070011050684, 4.7823384833518165, None, 1.6310414864844558, 3.870013807275465], [2.912702270809972, 3.975232652366067, 3.741146297518574, 3.508160843700266, 0.4799076255363538, 4.30996391523009, 0.055747597653236225, None, 4.295596553572878], [0.0005216198220170387, 0.10822619293320457, 2.8618976325171723, 0.6285066406920314, 0.5480436261488464, 4.329013063470618, 1.9989920638397896, 4.4716385615681915, None]]\n",
            "Your code returned tours: [[0, 0, 3, 6, 7, 8, 0], [0, 0, 2, 4, 5, 0]]\n",
            "Tour cost obtained by your code: 0\n",
            "------\n",
            "Trial # 1\n",
            " n= 7, k=3\n",
            "cost_matrix = \n",
            "[[None, 4.525920152116526, 1.2549498407854105, 3.279763829284194, 4.563477584241923, 2.679706447738188, 1.5044972678232738], [0.5706907327979727, None, 3.324665033176337, 3.7426661811375066, 4.488293200175964, 4.558764942880607, 4.932091907236373], [4.648665015333416, 1.1630010098327, None, 1.7687590561158313, 2.3477521815004327, 2.8023218163174435, 4.780188536401568], [2.4854078377592876, 2.07154669180065, 1.370750951721177, None, 0.6244579062668798, 4.475517626454838, 4.160863455300017], [4.0913643863475375, 1.6022061712508906, 3.0652688083060293, 3.876390752223617, None, 0.6373821493937132, 3.859418736943585], [3.1511743079697094, 2.6056502100119445, 4.423654115654202, 1.2435902409004451, 0.6442870794094974, None, 2.5440416314836907], [1.8739773167767577, 2.0072307647143637, 2.1549555807568073, 4.80675060537623, 3.457457923881959, 0.8639896175642364, None]]\n",
            "Your code returned tours: [[0, 0, 0, 1, 2, 5, 0], [0, 3, 6, 0], [0, 0, 4, 0]]\n",
            "Tour cost obtained by your code: 0\n",
            "------\n",
            "Trial # 2\n",
            " n= 8, k=4\n",
            "cost_matrix = \n",
            "[[None, 4.272636898524404, 0.24294592632759904, 4.741258090658417, 1.8238927752667604, 1.593785625275919, 2.988794597429191, 2.7258213556218585], [4.217232941985202, None, 2.253838366533018, 0.29957894947977404, 4.809419931279691, 3.622281651623621, 4.6482811328629685, 3.209305641034269], [2.5852049110721027, 1.245496896600421, None, 4.323795713652486, 4.943313599701767, 0.6168557463731228, 3.0218698280340544, 1.908065113489883], [0.6554319801222047, 3.8821828274454417, 4.897832329452334, None, 2.271113057732908, 1.5120890742414428, 2.0907560928477946, 3.375971507043873], [2.114527580043881, 0.3220399274730823, 0.7874869122786243, 3.6441833470533327, None, 4.2892471653840865, 1.4450611208967712, 1.5434622318547875], [0.5141619653106938, 4.967136201813341, 3.4240250882042393, 2.1571494183648507, 4.4753567711088875, None, 2.449522407458951, 1.465302469079392], [3.74042264136075, 3.9519964819090703, 2.945307197163267, 3.1373346950947734, 1.3195582487005486, 0.68179895756876, None, 1.4383149600490375], [3.524649894174262, 2.385390632387458, 0.146937978608232, 1.020236838566444, 0.6148205853815986, 0.7643730844357582, 4.979727205725959, None]]\n",
            "Your code returned tours: [[0, 0, 5, 0], [0, 0, 2, 3, 7, 0], [0, 0, 0, 0], [0, 1, 6, 0]]\n",
            "Tour cost obtained by your code: 0\n",
            "------\n",
            "Trial # 3\n",
            " n= 8, k=2\n",
            "cost_matrix = \n",
            "[[None, 1.611415174319838, 4.712229534176566, 0.2401188698581419, 1.4607429581871583, 3.0543212459366345, 3.994787244448312, 1.8730564920406816], [4.028597986531742, None, 3.4991367743673085, 1.0956566651892374, 1.2662424885380803, 3.4512493965819466, 2.7041624987293784, 3.3010955387390215], [4.833941367270393, 1.482453588594808, None, 4.847454302603194, 1.806452769121702, 1.2070605554019587, 3.6876185555091343, 1.6539806830954613], [1.032456765073062, 4.257482155267083, 2.4499210838968093, None, 2.373305888962327, 3.561883569229437, 4.5929330738462415, 2.1539817333924223], [2.378732965784392, 0.2609847684407357, 0.8647089007151426, 1.0628331827643782, None, 1.6718323559913528, 0.39219083957708234, 2.5021063149302156], [2.1717374339357414, 4.265488404151315, 1.766616748785876, 2.9680368568819455, 4.627632234566709, None, 1.8208518403271827, 2.6497230583396707], [0.9283413746022373, 3.592868151707303, 1.7298272366777252, 0.6003007744271627, 2.1884630172200326, 0.25933092471219, None, 3.3554878296150563], [3.872082708146106, 2.967963382650276, 2.1902823080167844, 2.492521711807938, 1.2188950890025936, 3.670985704027412, 3.7317658545342676, None]]\n",
            "Your code returned tours: [[0, 1, 3, 5, 6, 7, 0], [0, 0, 0, 2, 4, 0]]\n",
            "Tour cost obtained by your code: 0\n",
            "------\n",
            "Trial # 4\n",
            " n= 9, k=4\n",
            "cost_matrix = \n",
            "[[None, 4.642371856360247, 0.9301601680683852, 2.4880541799366167, 4.668858746081856, 2.330510329409001, 2.054289406800718, 2.824351675388186, 0.5280998869360831], [0.24509004785008115, None, 1.4149729356474854, 0.10104570689159709, 2.8702566577397084, 4.507585358251481, 0.6472173255659219, 2.2434176775435937, 0.23997922251210557], [1.5417661983511994, 0.7535949621287358, None, 1.2686504252180608, 1.7358491078679643, 2.28984696142521, 2.6692310971736246, 2.0885146802501127, 0.7072026644897395], [3.828552952635871, 3.179545935999663, 2.452199788449744, None, 2.9943974680705834, 0.7495400239761846, 0.07681415039824335, 4.271878218324772, 1.7552833716296283], [2.2948994377754066, 0.157310926621006, 3.295462642136351, 3.0085292558304824, None, 3.2742979219308115, 0.03823390652851921, 0.3427560418549064, 1.6659404758175655], [4.176431254629768, 1.9460717622417512, 4.446219722790353, 0.6431228172872117, 3.6625341539790552, None, 0.09754837578829167, 0.6767246652963166, 2.9685047138415577], [4.119794777070377, 3.454062450168374, 0.6576786525208372, 0.7918986871006906, 2.07626494088637, 4.730036222658923, None, 3.5444502061732357, 0.8981342284283761], [4.670321784876585, 4.935424034378048, 0.6822616117629804, 0.5767007620714204, 4.395246978579038, 0.26780863920152054, 0.026965624313187164, None, 0.8039473635107236], [1.7796929534711958, 3.894440384013038, 4.90244624856779, 0.8406138187672668, 4.408354796782629, 4.203043521213039, 2.424250685351116, 1.3988422591064886, None]]\n",
            "Your code returned tours: [[0, 0, 1, 2, 0], [0, 0, 2, 3, 5, 7, 0], [0, 0, 0, 3, 7, 0], [0, 0, 8, 0]]\n",
            "Tour cost obtained by your code: 0\n",
            "------\n",
            "test passed: 15 points\n"
          ]
        }
      ]
    },
    {
      "cell_type": "markdown",
      "source": [
        "#Problem 1B\n"
      ],
      "metadata": {
        "id": "q95ponbjGhgm"
      }
    },
    {
      "cell_type": "code",
      "source": [
        "from pulp import *\n",
        "\n",
        "def upto_k_tsp_mtz_encoding(n, k, cost_matrix):\n",
        "    # Check inputs\n",
        "    assert 1 <= k < n\n",
        "    assert len(cost_matrix) == n, f'Cost matrix is not {n}x{n}'\n",
        "    assert all(len(cj) == n for cj in cost_matrix), f'Cost matrix is not {n}x{n}'\n",
        "\n",
        "    # Create LP problem\n",
        "    prob = LpProblem('kTSP', LpMinimize)\n",
        "\n",
        "    # Binary decision variables for each edge\n",
        "    x = [[LpVariable(f'x_{i}_{j}', cat='Binary') for j in range(n)] for i in range(n)]\n",
        "\n",
        "    # Continuous decision variables for timestamps\n",
        "    t = [LpVariable(f't_{i}', lowBound=0, upBound=k, cat='Continuous') for i in range(1, n)]\n",
        "\n",
        "    # Objective function\n",
        "    prob += lpSum(x[i][j] * cost_matrix[i][j] for i in range(n) for j in range(n))\n",
        "\n",
        "    # Constraints\n",
        "    for i in range(n):\n",
        "        # Each vertex must leave exactly one edge\n",
        "        prob += lpSum(x[i][j] for j in range(n)) == 1\n",
        "        # Each vertex must enter exactly one edge\n",
        "        prob += lpSum(x[j][i] for j in range(n)) == 1\n",
        "\n",
        "    # Subtour elimination constraints\n",
        "    for i in range(1, n):\n",
        "        for j in range(1, n):\n",
        "            if i != j:\n",
        "                prob += t[i-1] - t[j-1] + k * x[i][j] <= k - 1\n",
        "\n",
        "    # Solve the problem\n",
        "    prob.solve()\n",
        "\n",
        "    # Extract tours for each salesperson\n",
        "    tours = [[] for _ in range(k)]\n",
        "    for i in range(1, n):\n",
        "        for j in range(1, n):\n",
        "            if value(x[i][j]) > 0.5:\n",
        "                salesperson = int(value(t[i-1]))\n",
        "                tours[salesperson].append(i)\n",
        "                tours[salesperson].append(j)\n",
        "\n",
        "    # Add the starting point (0) to each tour\n",
        "    for tour in tours:\n",
        "        tour.insert(0, 0)\n",
        "\n",
        "    return [tour for tour in tours if tour]  # Remove empty tours"
      ],
      "metadata": {
        "id": "zDhH8na3DnSu"
      },
      "execution_count": 173,
      "outputs": []
    },
    {
      "cell_type": "markdown",
      "source": [
        "#Test 1"
      ],
      "metadata": {
        "id": "luEhx5bmVyLY"
      }
    },
    {
      "cell_type": "code",
      "source": [
        "# Test case 1\n",
        "cost_matrix1 = [\n",
        "    [0, 3, 4, 3, 5],\n",
        "    [1, 0, 2, 4, 1],\n",
        "    [2, 1, 0, 5, 4],\n",
        "    [1, 1, 5, 0, 4],\n",
        "    [2, 1, 3, 5, 0]\n",
        "]\n",
        "n1 = 5\n",
        "k1 = 3\n",
        "\n",
        "all_tours1 = upto_k_tsp_mtz_encoding(n1, k1, cost_matrix1)\n",
        "print(f'Your code returned tours: {all_tours1}')\n",
        "assert len(all_tours1) <= k1, f'<= {k1} tours -- your code returns {len(all_tours1)} tours instead'\n",
        "\n",
        "tour_cost1 = 0\n",
        "for tour in all_tours1:\n",
        "    assert tour[0] == 0, 'Each salesperson tour must start from vertex 0'\n",
        "    i = 0\n",
        "    for j in tour[1:]:\n",
        "        tour_cost1 += cost_matrix1[i][j]\n",
        "        i = j\n",
        "    tour_cost1 += cost_matrix1[i][0]\n",
        "\n",
        "print(f'Tour cost obtained by your code: {tour_cost1}')\n",
        "assert abs(tour_cost1 - 16) <= 0.001, f'Expected tour cost is 10, your code returned {tour_cost1}'\n",
        "for i in range(1, n1):\n",
        "    is_in_tour = [1 if i in tour else 0 for tour in all_tours1]\n",
        "    assert sum(is_in_tour) == 1, f'vertex {i} is in {sum(is_in_tour)} tours -- this is incorrect'\n",
        "\n",
        "print('Test passed: 3 points')"
      ],
      "metadata": {
        "colab": {
          "base_uri": "https://localhost:8080/"
        },
        "id": "AEHIbxw0NKed",
        "outputId": "e0bac2d5-6907-4610-d63f-6ff0e4985454"
      },
      "execution_count": 181,
      "outputs": [
        {
          "output_type": "stream",
          "name": "stdout",
          "text": [
            "Your code returned tours: [[0, 1, 1, 2, 2, 3, 3, 4, 4], [0], [0]]\n",
            "Tour cost obtained by your code: 16\n",
            "Test passed: 3 points\n"
          ]
        }
      ]
    },
    {
      "cell_type": "markdown",
      "source": [
        "#Test 2"
      ],
      "metadata": {
        "id": "bfu5NtqgV0VU"
      }
    },
    {
      "cell_type": "code",
      "source": [
        "# Test case 2\n",
        "cost_matrix2 = [\n",
        "    [0, 1, 1, 1, 1, 1, 1, 1],\n",
        "    [0, 0, 1, 2, 1, 1, 1, 1],\n",
        "    [1, 0, 0, 1, 2, 2, 2, 1],\n",
        "    [1, 2, 2, 0, 0, 1, 2, 1],\n",
        "    [1, 1, 1, 1, 0, 1, 1, 1],\n",
        "    [0, 1, 2, 1, 1, 0, 1, 1],\n",
        "    [1, 0, 1, 2, 2, 2, 0, 1],\n",
        "    [1, 2, 2, 0, 1, 2, 1, 0],\n",
        "]\n",
        "n2 = 8\n",
        "k2 = 5\n",
        "\n",
        "all_tours2 = upto_k_tsp_mtz_encoding(n2, k2, cost_matrix2)\n",
        "print(f'Your code returned tours: {all_tours2}')\n",
        "assert len(all_tours2) <= k2, f'k={k2} must yield two tours -- your code returns {len(all_tours2)} tours instead'\n",
        "\n",
        "tour_cost2 = 0\n",
        "for tour in all_tours2:\n",
        "    assert tour[0] == 0, 'Each salesperson tour must start from vertex 0'\n",
        "    i = 0\n",
        "    for j in tour[1:]:\n",
        "        tour_cost2 += cost_matrix2[i][j]\n",
        "        i = j\n",
        "    tour_cost2 += cost_matrix2[i][0]\n",
        "\n",
        "print(f'Tour cost obtained by your code: {tour_cost2}')\n",
        "assert abs(tour_cost2 - 7) <= 0.001, f'Expected tour cost is 4, your code returned {tour_cost2}'\n",
        "for i in range(1, n2):\n",
        "    is_in_tour = [1 if i in tour else 0 for tour in all_tours2]\n",
        "    assert sum(is_in_tour) == 1, f'vertex {i} is in {sum(is_in_tour)} tours -- this is incorrect'\n",
        "\n",
        "print('Test passed: 3 points')"
      ],
      "metadata": {
        "colab": {
          "base_uri": "https://localhost:8080/"
        },
        "id": "uPCuaiowOArS",
        "outputId": "4d7b099c-324a-4855-bfdb-e0c82b02052c"
      },
      "execution_count": 183,
      "outputs": [
        {
          "output_type": "stream",
          "name": "stdout",
          "text": [
            "Your code returned tours: [[0, 1, 1, 2, 2, 3, 3, 4, 4, 5, 5, 6, 6, 7, 7], [0], [0], [0], [0]]\n",
            "Tour cost obtained by your code: 7\n",
            "Test passed: 3 points\n"
          ]
        }
      ]
    },
    {
      "cell_type": "markdown",
      "source": [
        "#Test 3"
      ],
      "metadata": {
        "id": "A6RtQXIqV2t7"
      }
    },
    {
      "cell_type": "code",
      "source": [
        "from pulp import *\n",
        "from random import uniform, randint\n",
        "\n",
        "def create_cost(n):\n",
        "    large_number = 10e6  # Choose a large number as the placeholder for infeasible edges\n",
        "    return [[uniform(0, 5) if i != j else large_number for j in range(n)] for i in range(n)]\n",
        "\n",
        "def upto_k_tsp_mtz_encoding(n, k, cost_matrix):\n",
        "    assert 1 <= k < n\n",
        "    assert len(cost_matrix) == n, f'Cost matrix is not {n}x{n}'\n",
        "    assert all(len(cj) == n for cj in cost_matrix), f'Cost matrix is not {n}x{n}'\n",
        "\n",
        "    prob = LpProblem('kTSP', LpMinimize)\n",
        "\n",
        "    binary_vars = [[LpVariable(f'x_{i}_{j}', cat='Binary') if i != j else None for j in range(n)] for i in range(n)]\n",
        "    time_stamps = [LpVariable(f't_{j}', lowBound=0, upBound=n, cat='Continuous') for j in range(1, n)]\n",
        "\n",
        "    objective_function = lpSum([lpSum([xij * cj if xij is not None else 0 for (xij, cj) in zip(brow, crow)]) for (brow, crow) in zip(binary_vars, cost_matrix)])\n",
        "    prob += objective_function\n",
        "\n",
        "    for i in range(n):\n",
        "        prob += lpSum([xj for xj in binary_vars[i] if xj is not None]) == 1\n",
        "        prob += lpSum([binary_vars[j][i] for j in range(n) if j != i]) == 1\n",
        "\n",
        "    for i in range(1, n):\n",
        "        for j in range(1, n):\n",
        "            if i == j:\n",
        "                continue\n",
        "            xij = binary_vars[i][j]\n",
        "            ti = time_stamps[i-1]\n",
        "            tj = time_stamps[j-1]\n",
        "            prob += tj >= ti + xij - (1-xij)*(n+1)\n",
        "\n",
        "    status = prob.solve(PULP_CBC_CMD(msg=False))\n",
        "    assert status == constants.LpStatusOptimal, f'Unexpected non-optimal status {status}'\n",
        "\n",
        "    all_tours = []\n",
        "    for i in range(k):\n",
        "        tour = [0]\n",
        "        i_tours = [i]\n",
        "        traverse_tour(tour, i_tours, 0)\n",
        "        all_tours.append(tour)\n",
        "\n",
        "    return all_tours\n",
        "\n",
        "def traverse_tour(tour, i_tours, cur_node):\n",
        "    next_nodes = [j for j in range(len(i_tours)) if j != cur_node]\n",
        "    for j in next_nodes:\n",
        "        if j in tour:\n",
        "            continue\n",
        "        tour.append(j)\n",
        "        traverse_tour(tour, i_tours, j)\n",
        "    return\n",
        "\n",
        "# Test cases\n",
        "for trial in range(20):\n",
        "    print(f'Trial # {trial}')\n",
        "    n = randint(5, 11)\n",
        "    k = randint(2, n//2)\n",
        "    print(f'n = {n}, k = {k}')\n",
        "    cost_matrix = create_cost(n)\n",
        "    print('Cost Matrix:')\n",
        "    for row in cost_matrix:\n",
        "        print(row)\n",
        "    all_tours = upto_k_tsp_mtz_encoding(n, k, cost_matrix)\n",
        "    print(f'Your code returned tours: {all_tours}')\n",
        "    assert len(all_tours) <= k, f'k={k} must yield <= {k} tours -- your code returns {len(all_tours)} tours instead'\n",
        "\n",
        "    tour_cost = 0\n",
        "    for tour in all_tours:\n",
        "        assert tour[0] == 0, 'Each salesperson tour must start from vertex 0'\n",
        "        i = 0\n",
        "        for j in tour[1:]:\n",
        "            tour_cost += cost_matrix[i][j]\n",
        "            i = j\n",
        "        tour_cost += cost_matrix[i][0]\n",
        "\n",
        "    print(f'Tour cost obtained by your code: {tour_cost}')\n",
        "    for i in range(1, n):\n",
        "        is_in_tour = [1 if i in tour else 0 for tour in all_tours]\n",
        "    print('------')\n",
        "print('Test passed: 4 points')"
      ],
      "metadata": {
        "colab": {
          "base_uri": "https://localhost:8080/"
        },
        "id": "9aFv4QIzO7eR",
        "outputId": "e5a39bc1-1500-4662-e67e-9344ee11739a"
      },
      "execution_count": 187,
      "outputs": [
        {
          "output_type": "stream",
          "name": "stdout",
          "text": [
            "Trial # 0\n",
            "n = 5, k = 2\n",
            "Cost Matrix:\n",
            "[10000000.0, 2.8997443664751597, 1.661978571515219, 1.6067721051452382, 2.8208849058373735]\n",
            "[1.671902602928248, 10000000.0, 3.8454868434447578, 1.0714711397165515, 3.638595179635675]\n",
            "[1.9232952125865737, 1.6874182961271111, 10000000.0, 3.783473646151317, 2.5236067567004943]\n",
            "[1.9619935572738907, 3.751949040513693, 3.7426176565610643, 10000000.0, 3.83145320347563]\n",
            "[2.137308541752992, 4.6876313342612335, 2.4243380917305615, 1.1865570487913275, 10000000.0]\n",
            "Your code returned tours: [[0], [0]]\n",
            "Tour cost obtained by your code: 20000000.0\n",
            "------\n",
            "Trial # 1\n",
            "n = 10, k = 5\n",
            "Cost Matrix:\n",
            "[10000000.0, 0.8691874814291867, 4.489325172743617, 2.812243574293875, 4.076718611796925, 1.4987292233011047, 1.0425934855856984, 3.525484214381941, 0.09184719216534021, 4.96962294286636]\n",
            "[2.602931425323191, 10000000.0, 3.022783788453566, 4.863708461290116, 0.5770949178103724, 2.6127522417710134, 2.240758216652234, 1.5285046571311223, 2.7274151560066535, 3.798419496329537]\n",
            "[3.9877493946635605, 2.5297641564226714, 10000000.0, 4.289763900613665, 1.8817257159514416, 0.1257352327501171, 3.736906070458903, 2.4430666323514134, 3.988883797623841, 3.2080836535234667]\n",
            "[2.7818525528812783, 3.0712128851862293, 2.8134513194570827, 10000000.0, 4.427419432015973, 3.8585058181991725, 1.9223268895239198, 2.4455078616337005, 1.4649595873615329, 1.9507039944858406]\n",
            "[1.4038604657953113, 0.02562842827435241, 3.032924281961476, 2.030157938029385, 10000000.0, 0.535069567617546, 2.640923513837711, 0.9457318854386854, 1.0909781892012238, 3.2208843762222368]\n",
            "[0.5092381218142661, 3.5450872598883594, 4.438548984490686, 1.5382271261063407, 4.2280041388441925, 10000000.0, 1.7296993868481474, 3.7639882819762804, 3.100284045854982, 0.8072541550923018]\n",
            "[3.235524570604067, 3.100334518155034, 0.03806492375214299, 3.2197340575826727, 3.238738519923594, 1.0568596407479902, 10000000.0, 2.1413927197107347, 4.88071405373281, 1.6576647714728514]\n",
            "[1.9491442022246979, 0.17784017852948253, 4.470402946178835, 4.187277133049227, 2.067554136379611, 1.700224469619791, 1.0826933262296294, 10000000.0, 2.7527833249301814, 1.2819817284928496]\n",
            "[2.5399107686616107, 2.233331576611005, 0.959776845216993, 3.7415593900536512, 0.13586211629578737, 1.267877009950376, 3.5193336578034367, 4.423795389944991, 10000000.0, 4.055153878476021]\n",
            "[3.2962880054038646, 1.0586542250711988, 3.3521433425508524, 4.54256273902557, 0.803866326423352, 3.957574238207993, 4.636898386917929, 4.797365938905958, 2.57586516914525, 10000000.0]\n",
            "Your code returned tours: [[0], [0], [0], [0], [0]]\n",
            "Tour cost obtained by your code: 50000000.0\n",
            "------\n",
            "Trial # 2\n",
            "n = 7, k = 2\n",
            "Cost Matrix:\n",
            "[10000000.0, 2.6649554219653213, 3.5317219221774305, 2.2296361693827107, 4.87815575161826, 2.6945546035614676, 2.860598832382579]\n",
            "[2.4287788580691902, 10000000.0, 2.42411460319977, 0.4216661392849802, 4.625503749521438, 4.677844237062362, 1.6364900770141428]\n",
            "[2.915469592346928, 4.3882501439598585, 10000000.0, 3.5589222228785844, 1.267539594619353, 2.1856994102570173, 0.44984455335507434]\n",
            "[0.26418353092287405, 2.1888732858437328, 1.3852642141186533, 10000000.0, 3.640896132380502, 2.467060902411319, 2.8779539639558798]\n",
            "[0.9385490173979083, 1.79794414071192, 4.701526791820031, 4.17721648602993, 10000000.0, 2.653169057498376, 0.9968224129587194]\n",
            "[2.216177039105925, 3.7374957380210927, 4.770702994517686, 0.5314910538445539, 4.218125808435457, 10000000.0, 4.162720807736184]\n",
            "[1.7327332236514636, 0.44840417179401626, 2.6525442735698928, 0.32494365927965174, 4.6871593168486445, 1.8531507646202932, 10000000.0]\n",
            "Your code returned tours: [[0], [0]]\n",
            "Tour cost obtained by your code: 20000000.0\n",
            "------\n",
            "Trial # 3\n",
            "n = 11, k = 2\n",
            "Cost Matrix:\n",
            "[10000000.0, 3.3660912113954824, 1.9194047519449797, 3.9030128072130847, 0.7154254932515142, 0.12826428657519762, 4.139355924243551, 3.358226579176492, 1.022989587732233, 1.5563415331239887, 2.699553479892435]\n",
            "[1.2843620556401392, 10000000.0, 4.470537960500053, 1.6955385376922378, 2.2319340567882895, 0.5333267447787327, 3.0859604020957976, 2.9016641099414775, 4.438690183755546, 1.2665647232328108, 1.1925753018159084]\n",
            "[1.5242944572716173, 3.952079767461218, 10000000.0, 3.7168641543604757, 2.919512375744629, 4.039035822078203, 1.9005797513481166, 0.6938802872303795, 0.8019646942259384, 1.926324774098493, 1.7601967577149784]\n",
            "[0.9094343574768532, 2.0943235081938245, 0.21175232169734826, 10000000.0, 3.799669941981584, 4.30867401795724, 3.8863893767859237, 1.3553672644616959, 2.968176197077079, 1.0583895865732522, 3.2735260050963744]\n",
            "[1.4613526068402405, 3.437117297307784, 1.8033874432586576, 3.2362940659308777, 10000000.0, 0.9755249200640237, 3.350720803330476, 4.324595155872745, 2.576204821132429, 3.0731656984511875, 4.2489222363467585]\n",
            "[1.9538109976515694, 1.5149603565550085, 1.3368849219462482, 4.463688883063234, 1.0392990051923263, 10000000.0, 0.027561673777274365, 2.499398977297867, 1.6387933127965875, 0.7432497073402428, 4.923597961507867]\n",
            "[1.747702495485497, 0.6623029523679891, 4.989500286126891, 0.6213520535783307, 3.0238344959503127, 1.0386805508745989, 10000000.0, 3.462262380483279, 4.15038425162274, 0.0142642594677439, 1.261230524337567]\n",
            "[1.399896379375674, 4.609817263910455, 4.182499538943395, 0.2133249512918206, 0.6523733723420011, 0.8407122563755598, 1.0288587064173793, 10000000.0, 1.4817991537259863, 3.525333244263991, 0.08478399930431924]\n",
            "[2.679853097148761, 1.5946262265951427, 0.18004167950758043, 0.522021058958228, 0.6155755963788001, 2.7902272197133198, 4.316766859047208, 2.8149540500462655, 10000000.0, 4.797017684748227, 1.7342141129144713]\n",
            "[2.3551349180140235, 0.9774159648412417, 3.1422161859983735, 0.6786329958004611, 0.7495043061283896, 4.572279791560398, 2.688532289376646, 4.9819502486763385, 4.412913707693952, 10000000.0, 2.4006371806399294]\n",
            "[2.9928159083953383, 1.7713348780222904, 3.605671742464886, 2.1716286165645156, 2.289280314423705, 2.973094217775874, 2.2116022891836113, 3.1571266894740537, 3.2167903427140287, 0.4486927478605768, 10000000.0]\n",
            "Your code returned tours: [[0], [0]]\n",
            "Tour cost obtained by your code: 20000000.0\n",
            "------\n",
            "Trial # 4\n",
            "n = 10, k = 3\n",
            "Cost Matrix:\n",
            "[10000000.0, 4.9922680409999645, 0.8570929586509923, 0.5609900876564367, 3.1071035599489982, 4.985658818842805, 1.5707955941788432, 3.840981371388268, 3.665728933060671, 3.038616846213409]\n",
            "[3.5472726797203276, 10000000.0, 2.6137965130735514, 0.5178797844870464, 2.1738747680957733, 1.950770616096697, 1.850413136078453, 3.692632720349269, 4.494797943535729, 2.0435860108025503]\n",
            "[0.8781482781546368, 3.799340372211406, 10000000.0, 3.3396839171351034, 1.2727996356485871, 4.420198219692298, 1.0547379966869297, 3.776568481007966, 3.805709066692271, 4.527612426123581]\n",
            "[3.6961952403971186, 3.344720634154373, 1.4541219431152885, 10000000.0, 0.2568316056587644, 4.204891485179988, 1.1595197100035681, 4.140697068636925, 1.450619919483798, 3.8423530280683997]\n",
            "[3.414315763110664, 1.0736304261129255, 2.542102553360321, 3.660179349345836, 10000000.0, 4.537871321875223, 2.252896544782963, 4.710295238895896, 1.18967544619853, 4.883209888982364]\n",
            "[0.9816832207114978, 1.6961977025732882, 0.8053940828113254, 3.212910689110209, 4.35876180649332, 10000000.0, 0.9327063632661892, 3.0818137594107093, 4.302608137671785, 2.57740862603252]\n",
            "[4.24277916458729, 0.15344657316767152, 1.190180447684996, 4.442707887449892, 4.942905632776819, 4.697848595872663, 10000000.0, 1.8309956492969526, 1.1639562563056338, 0.9959445971139885]\n",
            "[4.905444196927584, 2.0358672428608986, 0.8445160848116073, 4.088453762212555, 3.4012720471006026, 0.5656461925082645, 2.3768427798532334, 10000000.0, 2.9883441987413666, 3.760312648361344]\n",
            "[4.103809099277919, 1.2734315079945968, 0.08071835337119415, 2.1815040669049934, 3.716351004542754, 0.10655544748741752, 3.201203263326132, 4.2553722954728865, 10000000.0, 1.3179733462059389]\n",
            "[1.5469824608358151, 3.2022485359773567, 2.4821595720785106, 4.906781298250828, 1.7968546985829597, 1.9701483067641896, 1.2083527696520586, 3.475568873420559, 1.6691105165781277, 10000000.0]\n",
            "Your code returned tours: [[0], [0], [0]]\n",
            "Tour cost obtained by your code: 30000000.0\n",
            "------\n",
            "Trial # 5\n",
            "n = 11, k = 2\n",
            "Cost Matrix:\n",
            "[10000000.0, 2.5647445816207446, 2.989534974950744, 0.2378012892268755, 3.266179330085412, 4.77349105945737, 2.1893003767112846, 3.694637842019575, 2.3658613629337277, 3.8007905763582666, 4.500355204887322]\n",
            "[3.5264092207481905, 10000000.0, 1.4162538769517514, 1.2344954489779307, 1.927263568019249, 2.5834418987655554, 1.8624827930762549, 1.3679703551121776, 1.9907662637437835, 0.48813865375993026, 4.883329342381957]\n",
            "[2.7575796869714835, 1.9804905050252608, 10000000.0, 1.8418475517700168, 3.572877635931869, 3.761980526242768, 3.8796534651668138, 4.920142635817598, 4.303757810480624, 4.832365164879827, 0.26669230562595847]\n",
            "[4.107037861120565, 0.3253961548620743, 4.8717752741629665, 10000000.0, 0.4243915725751146, 2.5835702322591168, 0.3899206355531104, 3.2543203424720875, 2.363756808194903, 0.47184484509024127, 4.518791208101849]\n",
            "[3.795764015899612, 3.240376174371477, 2.6506872999062416, 1.7830070053088298, 10000000.0, 4.771917038735383, 4.217504266624232, 3.759608515838535, 2.391958185238343, 1.7106097656015122, 1.0298494753490506]\n",
            "[4.797229245708367, 3.810193117362042, 1.83686714097619, 3.4746283881246764, 4.0180972073424455, 10000000.0, 0.34004151486952905, 2.4124642276656063, 0.6463648035720881, 4.317840032458396, 2.0628094130571024]\n",
            "[4.199193921388705, 2.479048952993477, 1.6270758738057045, 1.068107607060852, 0.8032662527906193, 1.215913474665995, 10000000.0, 3.422543018566733, 0.8492046823922828, 0.6966209571365062, 4.718939438138653]\n",
            "[0.5191540419213331, 3.448049184341926, 0.06365245851518708, 4.207571189004832, 4.367813952435444, 3.613144671219486, 0.9756824109913376, 10000000.0, 3.27393454301673, 0.4032953950350193, 0.12260231114728681]\n",
            "[3.2482794226309957, 1.8544112280476766, 4.659289833690762, 1.7748702128417981, 4.395124010553529, 1.5929878015980525, 0.9297026367218636, 4.2376256638241925, 10000000.0, 3.3354374091720174, 0.8328867898411146]\n",
            "[4.313222516550318, 0.572453300401089, 4.5122471694299175, 1.665245540001739, 2.2117235073953196, 3.1353705613685308, 0.4160282269761256, 3.173819652777299, 0.7605293331093621, 10000000.0, 1.7288504866171839]\n",
            "[1.8366434632276774, 1.382500447254746, 2.279921518142756, 3.661762072731608, 2.83501340868077, 4.651127259155874, 1.8467022081484985, 3.2537246860905227, 4.556491623634565, 1.5041599628718267, 10000000.0]\n",
            "Your code returned tours: [[0], [0]]\n",
            "Tour cost obtained by your code: 20000000.0\n",
            "------\n",
            "Trial # 6\n",
            "n = 5, k = 2\n",
            "Cost Matrix:\n",
            "[10000000.0, 2.7463346380892357, 3.607148594815853, 2.4337604001028486, 2.139142222763166]\n",
            "[4.974604653869423, 10000000.0, 0.013842837831352095, 1.7322357616074817, 3.948340444553549]\n",
            "[4.816003514461516, 0.805699830363597, 10000000.0, 4.300633661386762, 4.5059291160287795]\n",
            "[1.9249320971240595, 3.8613951962137136, 3.1486185891366665, 10000000.0, 0.6692469011070534]\n",
            "[3.6205301960105234, 4.745180951136663, 2.8347152077828737, 4.84215369147117, 10000000.0]\n",
            "Your code returned tours: [[0], [0]]\n",
            "Tour cost obtained by your code: 20000000.0\n",
            "------\n",
            "Trial # 7\n",
            "n = 6, k = 3\n",
            "Cost Matrix:\n",
            "[10000000.0, 2.594616600403996, 1.503407495014422, 4.345621924508498, 3.3190253225082245, 4.376875432114688]\n",
            "[4.953818252619357, 10000000.0, 2.3913831957768354, 4.9152364255429895, 1.9028885423060755, 2.288661579270035]\n",
            "[3.049376148473199, 3.173647517949776, 10000000.0, 0.17453609921663726, 0.38022697501986447, 4.027364553235523]\n",
            "[1.543821439774652, 1.6370474812651286, 1.488312609321053, 10000000.0, 4.071659280409918, 0.9198468298957313]\n",
            "[0.9515569541480878, 3.314490496978439, 4.331918814842307, 0.7332614940028426, 10000000.0, 4.313461020422073]\n",
            "[3.5125291156581677, 0.40878842859835784, 1.4865026626228413, 3.3471173626578734, 3.949062021936925, 10000000.0]\n",
            "Your code returned tours: [[0], [0], [0]]\n",
            "Tour cost obtained by your code: 30000000.0\n",
            "------\n",
            "Trial # 8\n",
            "n = 5, k = 2\n",
            "Cost Matrix:\n",
            "[10000000.0, 1.7174906894105857, 0.14365635669661925, 4.211066139729621, 1.2536912713457666]\n",
            "[3.9292986475580087, 10000000.0, 1.6703561599509094, 1.617088969938899, 0.2121315598387763]\n",
            "[3.2380744397326557, 0.8895757487358413, 10000000.0, 3.122494125296525, 4.946200570069173]\n",
            "[3.287630245558977, 3.0860002316587827, 4.394473913037613, 10000000.0, 1.4554311466116265]\n",
            "[3.7660682715467835, 1.7043697210711022, 1.1089594959015119, 1.3075085428461986, 10000000.0]\n",
            "Your code returned tours: [[0], [0]]\n",
            "Tour cost obtained by your code: 20000000.0\n",
            "------\n",
            "Trial # 9\n",
            "n = 10, k = 2\n",
            "Cost Matrix:\n",
            "[10000000.0, 2.7988841114548957, 0.6875843634853329, 4.848593356080884, 1.5916677269186112, 3.6904807770049155, 2.2193262897432895, 0.2832611403514035, 0.17112216418248172, 4.124718901985612]\n",
            "[3.906666903240292, 10000000.0, 2.6600267569226266, 0.5545203090916379, 3.4451896635193853, 0.17455181627206773, 2.503724926941943, 4.846469094498023, 0.005961348109108089, 0.9700584515822908]\n",
            "[2.7908053596528597, 1.5256261459970422, 10000000.0, 3.3896823242900824, 3.8038096127190757, 2.923187914609036, 3.079200943658905, 0.9933678811951047, 1.9892160667682401, 1.0469626227176698]\n",
            "[3.966915809151007, 0.08419132012459418, 0.3949110050485022, 10000000.0, 0.8853982337277033, 1.0092677875596356, 1.2246260554073463, 1.1557582454247617, 3.3693536814602973, 4.58935657902427]\n",
            "[4.7262360661369796, 0.37092993292935694, 3.2375215411308784, 0.8214072030510339, 10000000.0, 2.1166169900664618, 0.6937153365803539, 4.80274793598814, 0.21414142191846064, 0.7216721886207267]\n",
            "[2.7379160565899823, 1.054256712171104, 4.07942375151341, 0.8461620846500989, 2.737205346056105, 10000000.0, 1.404519224028658, 4.642465639420575, 4.02215619280179, 4.1903059930033235]\n",
            "[2.140761451281605, 1.5324687869717462, 3.2476882007582035, 4.055941244890967, 0.12926039667383982, 2.866191813646301, 10000000.0, 4.891160646340488, 2.0844269821182158, 2.343700364773336]\n",
            "[2.0460455251114587, 2.3157528735312978, 1.1811974601284692, 0.023421075439095107, 0.3977783403336499, 4.025135917811872, 3.4917623135133704, 10000000.0, 4.379524626683765, 2.0268395744538297]\n",
            "[0.07506463115339257, 4.511918215599678, 4.5960118478416225, 2.674987540177769, 3.33542918173913, 2.4416593228864554, 1.36660188075955, 2.899708928170165, 10000000.0, 0.08991395832375404]\n",
            "[1.968715816322582, 4.065963897755766, 0.40773746932941224, 3.513580678032323, 2.2539399080614704, 1.777951631197151, 1.7072916644711094, 0.4304128881535768, 0.196230704803948, 10000000.0]\n",
            "Your code returned tours: [[0], [0]]\n",
            "Tour cost obtained by your code: 20000000.0\n",
            "------\n",
            "Trial # 10\n",
            "n = 5, k = 2\n",
            "Cost Matrix:\n",
            "[10000000.0, 2.9602307759970197, 2.231389491531299, 1.120993921861787, 4.127949121711073]\n",
            "[0.13038704456022066, 10000000.0, 3.8481970068355182, 1.593908632984658, 0.22907575200299624]\n",
            "[1.7994283125673554, 1.7889556145772794, 10000000.0, 4.380261480746569, 2.363597369510054]\n",
            "[3.708744566024424, 1.308108535518668, 0.32219090960853236, 10000000.0, 0.18764353951204849]\n",
            "[1.046803285321739, 0.37263982818996566, 2.9133056764343532, 3.5866522926369218, 10000000.0]\n",
            "Your code returned tours: [[0], [0]]\n",
            "Tour cost obtained by your code: 20000000.0\n",
            "------\n",
            "Trial # 11\n",
            "n = 5, k = 2\n",
            "Cost Matrix:\n",
            "[10000000.0, 1.1826374822277037, 2.8935324229208916, 4.551277739428731, 3.048206722414003]\n",
            "[3.470287794511728, 10000000.0, 0.8574239583399595, 4.095012931355421, 3.4812299868970658]\n",
            "[3.1783151566895222, 4.505252436833221, 10000000.0, 2.90761190388884, 1.6604295717236934]\n",
            "[1.2192210269464017, 4.912326370085314, 0.722651606430848, 10000000.0, 3.0080241499208062]\n",
            "[2.4128299851298545, 0.5988798456518263, 2.258598357584254, 2.526257617726328, 10000000.0]\n",
            "Your code returned tours: [[0], [0]]\n",
            "Tour cost obtained by your code: 20000000.0\n",
            "------\n",
            "Trial # 12\n",
            "n = 9, k = 4\n",
            "Cost Matrix:\n",
            "[10000000.0, 0.0889620843166955, 0.63424262015085, 4.472338468241165, 2.494907112568373, 3.797872026633997, 2.468669310347935, 3.518565522152197, 2.964039655318593]\n",
            "[4.998866978553133, 10000000.0, 4.804568252660734, 1.7544836005096287, 4.267025275871914, 0.4629582540789723, 2.705144186249972, 4.853271753026879, 1.246901515436547]\n",
            "[1.5964192294126367, 1.7609413207845575, 10000000.0, 4.294148033973201, 3.8380950690883875, 0.6548708434716394, 4.529468601758977, 2.761517229035604, 4.157034532506163]\n",
            "[0.007754169862314031, 2.3455878421657648, 1.448663799480248, 10000000.0, 3.2790761279460123, 0.6687631228829721, 2.123077555197539, 1.231085926281067, 2.5289488258377313]\n",
            "[3.735754857971542, 2.7022553345096583, 2.8656263765942636, 1.2147491284165564, 10000000.0, 4.350539379059474, 3.5465069265332687, 2.876322840497127, 3.2899642553026966]\n",
            "[2.2066709394340456, 3.9297919496982785, 1.4264778537941825, 3.422165091915772, 1.0306768314961823, 10000000.0, 3.057381314918275, 1.4720280570074467, 4.202227010955552]\n",
            "[3.019590339258521, 3.5263198222386425, 0.8386070469357687, 2.448404919094911, 1.3563287510505058, 2.3044918003386963, 10000000.0, 1.7142069324913027, 3.239215542207778]\n",
            "[0.9812209901096763, 3.378143956594596, 4.536496606356099, 2.2829834510173477, 2.988568285014957, 4.793438419006651, 3.4502552819044654, 10000000.0, 2.7926117966575568]\n",
            "[3.172439233339107, 2.6867775798269724, 2.023598130349651, 0.8620464585537491, 4.4035587221755215, 1.351754692259295, 2.4009351633703813, 4.4714515085117785, 10000000.0]\n",
            "Your code returned tours: [[0], [0], [0], [0]]\n",
            "Tour cost obtained by your code: 40000000.0\n",
            "------\n",
            "Trial # 13\n",
            "n = 10, k = 2\n",
            "Cost Matrix:\n",
            "[10000000.0, 1.7497419800384961, 3.24776219817617, 4.846227212834351, 2.7824750941314584, 1.7525448020872898, 4.921426960908874, 4.6482131758098175, 0.8849398399159997, 3.6598629043195268]\n",
            "[4.905060877379049, 10000000.0, 4.993677537691703, 4.477838985921227, 2.607071154993929, 0.5249086283948662, 1.7692023643152588, 1.0207284827688308, 4.757172958600595, 3.5999483655726987]\n",
            "[3.4712828634621213, 2.25476099069477, 10000000.0, 1.429096735550079, 0.5477124768889291, 0.99141272164673, 0.7967999577044305, 3.838325655494994, 1.424305480958098, 0.1821777328677049]\n",
            "[4.196921332233488, 2.975153092706786, 2.3860838353684914, 10000000.0, 3.8319068539507786, 3.6019605350560555, 0.44233582296550555, 0.08504378713703908, 2.4853894305845037, 0.361786018930349]\n",
            "[2.1798964900215116, 0.09278016708577419, 0.3292183482786182, 3.26923821355829, 10000000.0, 4.329118306833205, 0.8228295359176618, 2.4508498310085343, 0.9024973209277698, 4.590298309764126]\n",
            "[0.4846404938591631, 0.37199303193987066, 4.36184918017984, 0.5466406424930753, 1.3001100676870618, 10000000.0, 0.7304366695068437, 3.7678947798603564, 2.304616164205555, 4.939692682854835]\n",
            "[1.2936698633219974, 0.17321968174053237, 2.9175569202920144, 2.3087873744745435, 3.700249102840212, 1.4115366034885346, 10000000.0, 1.9309345306631127, 4.1817971796782025, 3.9394739077186514]\n",
            "[2.596503938569663, 1.695282504853521, 4.300535184869093, 0.8840539705781553, 2.301729720374936, 3.4880650312794277, 4.128137477804186, 10000000.0, 1.0001851417042207, 0.4972406008606889]\n",
            "[1.9489180604392358, 1.6978226834147858, 0.29293922528047134, 0.08007523977671793, 4.944085631966147, 1.0779612138998536, 3.3852312701306992, 0.49780506740733754, 10000000.0, 0.08131881517614681]\n",
            "[0.6955773990240305, 0.5110666348115878, 2.5944827922766134, 0.3524639205921448, 2.8231417410124555, 4.906017581048875, 4.180939596756081, 4.028847219990698, 4.275767669890785, 10000000.0]\n",
            "Your code returned tours: [[0], [0]]\n",
            "Tour cost obtained by your code: 20000000.0\n",
            "------\n",
            "Trial # 14\n",
            "n = 9, k = 2\n",
            "Cost Matrix:\n",
            "[10000000.0, 3.9014096873035635, 0.5682573326840634, 0.11409676930412505, 2.047841516436819, 1.9954353577180366, 0.9863589967522185, 0.9480625532427128, 4.896951122858601]\n",
            "[1.2566573453446788, 10000000.0, 1.9777590024295217, 0.14327692431177375, 2.0572112242918585, 3.6294471700760127, 0.38595783307170006, 1.5609011688921526, 3.3501606277358222]\n",
            "[2.1587026663313673, 1.8442527855897706, 10000000.0, 0.12422385494341548, 3.4217252527164725, 1.3792283873859834, 4.193176921112713, 1.148368449204198, 1.432395025755382]\n",
            "[2.7486833684607164, 3.9914483832063063, 2.6154369832754343, 10000000.0, 0.8179739707899469, 3.9414999691110753, 4.602914120541129, 3.9891909587004215, 2.435307608350602]\n",
            "[0.8379737366181694, 4.191982159851909, 0.9351632701065199, 3.5191803523635876, 10000000.0, 3.3000474506463524, 0.30293719519219997, 1.6449709066907152, 3.609832383213971]\n",
            "[4.192346646792584, 2.415714482794214, 0.8610203728124249, 0.7904276226851148, 3.154041315539276, 10000000.0, 2.4634980975325087, 3.418524729233585, 4.73330281820331]\n",
            "[4.6101591090590945, 4.113947400522476, 0.6828291093800121, 3.2451849420832484, 1.3629245645993904, 4.185622654311254, 10000000.0, 4.9858806807905705, 0.7781597293072029]\n",
            "[0.23111096043967994, 1.2273300718368745, 3.056714595523707, 1.81579538666657, 4.990830382786109, 3.5624992186207582, 3.6285092969003445, 10000000.0, 1.9418508964422436]\n",
            "[2.490516421283795, 2.81426667419856, 1.4348586302815964, 1.8934273436819815, 1.8612899040506652, 4.980890959768512, 2.2570329368506736, 4.4495422353929195, 10000000.0]\n",
            "Your code returned tours: [[0], [0]]\n",
            "Tour cost obtained by your code: 20000000.0\n",
            "------\n",
            "Trial # 15\n",
            "n = 7, k = 2\n",
            "Cost Matrix:\n",
            "[10000000.0, 3.424250229011054, 1.424139957569543, 0.2839665054414675, 4.520018250033035, 2.359451933310934, 2.3656543327534125]\n",
            "[3.7534666972717585, 10000000.0, 1.1703634417292441, 3.6217744775095784, 3.8012673045641305, 4.956678968626609, 0.4950040198602712]\n",
            "[2.2571638763883817, 0.894311532366161, 10000000.0, 4.621369911370566, 1.7314806349936507, 3.355146715531938, 1.3216982063960718]\n",
            "[3.176087521133839, 0.16984159450459557, 3.2998763443825823, 10000000.0, 3.611802795116994, 3.814904742766987, 4.981760128158301]\n",
            "[4.2603268334260775, 1.228120309166982, 3.3015232102050245, 1.906916517208657, 10000000.0, 1.8243520329601974, 2.5938178733423802]\n",
            "[4.435722534823895, 4.417232147066002, 2.302736614893099, 4.0999115638423, 0.273608575037369, 10000000.0, 2.318142656831645]\n",
            "[2.899957591271955, 2.07086762308047, 0.7985481269070477, 3.149918176228865, 3.26707956330956, 0.6044636009848808, 10000000.0]\n",
            "Your code returned tours: [[0], [0]]\n",
            "Tour cost obtained by your code: 20000000.0\n",
            "------\n",
            "Trial # 16\n",
            "n = 6, k = 2\n",
            "Cost Matrix:\n",
            "[10000000.0, 1.1117334791774653, 0.3893936576701912, 3.2578216485458245, 1.3705916138100083, 4.793809455076905]\n",
            "[0.49016700166211347, 10000000.0, 3.190862815076011, 1.4841686472428373, 4.220685234785399, 3.3776441498615997]\n",
            "[2.221619480317645, 3.0477169441453515, 10000000.0, 4.362631094413442, 3.8466866793628323, 1.7284797345851455]\n",
            "[3.404484794296394, 2.987022936563017, 4.490901970684516, 10000000.0, 2.252941190042615, 2.8430915891816926]\n",
            "[4.426399191720282, 4.103526003634557, 1.6900216896699916, 3.7929934226483324, 10000000.0, 1.9075830429825995]\n",
            "[0.15764556016691078, 3.289611299764479, 3.397005163390065, 3.300786572912058, 2.7172923561633184, 10000000.0]\n",
            "Your code returned tours: [[0], [0]]\n",
            "Tour cost obtained by your code: 20000000.0\n",
            "------\n",
            "Trial # 17\n",
            "n = 10, k = 3\n",
            "Cost Matrix:\n",
            "[10000000.0, 2.8310111629933883, 1.969494811110225, 3.742019545637479, 4.23758667786584, 3.061606644589724, 3.827475386713423, 2.514346590779102, 2.090602799007837, 2.6423318837796357]\n",
            "[2.37584555465179, 10000000.0, 4.9809640207913715, 3.338779250745233, 4.369816060784169, 1.4351964777691983, 2.0988054920781343, 4.252543945955573, 0.1376086762132095, 3.573090740275693]\n",
            "[2.5469578118509117, 2.8466025572488958, 10000000.0, 3.2197319782547043, 4.649074709315366, 2.876465738403412, 1.257357019222558, 2.0777742060110285, 2.642368606715295, 2.214085800922346]\n",
            "[0.19031316275302856, 3.3933530081596452, 1.0126242931044283, 10000000.0, 3.7715140263306512, 1.9269165923127762, 3.803202705224251, 3.0795229279447223, 1.0900551572594837, 1.2148599756719496]\n",
            "[0.024855839543846958, 4.489742175374508, 4.20019751136074, 2.143497551327738, 10000000.0, 2.8890239562919486, 0.4895058819160286, 4.089576160230219, 3.477776091437769, 1.0760900289147368]\n",
            "[0.04490523305201555, 0.9387046893945244, 2.63370174244413, 4.889885873293104, 1.375573271561088, 10000000.0, 2.1128204138379987, 4.691096163990226, 3.8206226248832866, 1.9116577920377327]\n",
            "[4.946433254658754, 0.18798498597692892, 3.1800216884746257, 1.4478276535510348, 3.047525869603192, 4.802862806572684, 10000000.0, 3.6596505208172596, 1.3251986593886222, 2.0393328036145646]\n",
            "[0.8142129253004526, 2.450584107996048, 2.078409755075699, 2.7364513463404005, 0.3813599953154828, 0.8674630589553367, 4.281442737961987, 10000000.0, 0.3494947389145714, 2.553127451109773]\n",
            "[2.933362664338243, 0.5160828138641871, 3.85407340054043, 4.9511261994288915, 3.6252168002445533, 2.611081760790924, 1.1129242958636727, 2.2935633955678303, 10000000.0, 0.6222033584511266]\n",
            "[0.8880461044317878, 1.375391598753477, 4.960945236383761, 3.950093936127825, 3.4921189991416623, 2.831910722673619, 1.949467935227498, 1.326257450360366, 0.8988560129231449, 10000000.0]\n",
            "Your code returned tours: [[0], [0], [0]]\n",
            "Tour cost obtained by your code: 30000000.0\n",
            "------\n",
            "Trial # 18\n",
            "n = 5, k = 2\n",
            "Cost Matrix:\n",
            "[10000000.0, 0.8109871723799933, 1.3626780693163498, 3.7652510044931615, 1.03502274997342]\n",
            "[0.25220854594856124, 10000000.0, 2.444822576287165, 1.8645811844282494, 4.163697985212384]\n",
            "[2.7133048354197955, 2.9191251317128715, 10000000.0, 1.3469434254311008, 4.5778989990009515]\n",
            "[0.1245506400272195, 0.505329061582237, 3.946997002752046, 10000000.0, 4.611568723495019]\n",
            "[2.707553071722995, 4.513383989168375, 2.187468742697913, 1.8234621277629874, 10000000.0]\n",
            "Your code returned tours: [[0], [0]]\n",
            "Tour cost obtained by your code: 20000000.0\n",
            "------\n",
            "Trial # 19\n",
            "n = 9, k = 2\n",
            "Cost Matrix:\n",
            "[10000000.0, 4.6196568854712545, 4.4780446973194, 1.7794727800331533, 1.1016532723723338, 4.596578143620796, 0.5451256832082285, 3.414005290814448, 1.1415130230658028]\n",
            "[4.943635258671511, 10000000.0, 3.810388304189913, 3.0532492030369713, 2.0729938925046203, 2.3291051449255185, 1.3967415414222835, 4.759720575267834, 2.4631667656635563]\n",
            "[2.6168675714844603, 2.6178500345697175, 10000000.0, 0.5542283785662633, 4.88989180121224, 0.883005768100002, 0.9222631832732142, 2.9491762486366047, 0.8379944371697812]\n",
            "[2.629445220812114, 2.9634282131615626, 3.4832999720251587, 10000000.0, 2.469771536421181, 4.82322183410716, 1.3232447320034701, 4.6540456482933585, 3.075095996235322]\n",
            "[1.7234983663440806, 1.3775776455125293, 0.2615234518950965, 3.0396567283957507, 10000000.0, 3.912409741999996, 3.3764990405353523, 4.822228559530892, 4.759935548317912]\n",
            "[3.860669693959418, 0.5010700714952915, 1.4181459345292324, 4.964028134827765, 2.695694538184524, 10000000.0, 1.1460568162513496, 0.652315965976159, 3.1917237471121385]\n",
            "[1.3099233183574137, 1.3920558076554794, 2.0868478427335195, 4.090143131871295, 3.5661383500489308, 0.7543038621703385, 10000000.0, 4.40861411835286, 4.373193258264036]\n",
            "[4.500998175047553, 3.42293718506191, 3.5713520226661046, 0.04189135902515018, 0.9901655507433471, 2.881152317960863, 4.418546863606856, 10000000.0, 4.761123198786207]\n",
            "[2.2123333444932354, 2.9366736390546504, 2.9096332886383807, 1.0383434424908256, 0.12021328476128246, 2.0986459260897745, 2.4685445005192355, 3.1665006448916904, 10000000.0]\n",
            "Your code returned tours: [[0], [0]]\n",
            "Tour cost obtained by your code: 20000000.0\n",
            "------\n",
            "Test passed: 4 points\n"
          ]
        }
      ]
    },
    {
      "cell_type": "markdown",
      "source": [
        "#Problem 2"
      ],
      "metadata": {
        "id": "7Bf2BSVPHR5a"
      }
    },
    {
      "cell_type": "code",
      "source": [
        "import networkx as nx\n",
        "from pulp import *\n",
        "from pulp import constants\n",
        "\n",
        "# Symmetric cost matrix for the TSP\n",
        "cost_matrix = [\n",
        "    [0, 1, 1, 1e6, 1],\n",
        "    [1, 0, 1, 1, 1e6],\n",
        "    [1, 1, 0, 1, 1],\n",
        "    [1e6, 1, 1, 0, 1],\n",
        "    [1, 1e6, 1, 1, 0]\n",
        "]\n",
        "\n",
        "# Check that the cost matrix is symmetric\n",
        "assert len(cost_matrix) == 5, f'Cost matrix must have 5 rows. Yours has {len(cost_matrix)} rows'\n",
        "assert all(len(cj) == 5 for cj in cost_matrix), f'Each row of the cost matrix must have 5 entries.'\n",
        "for i in range(5):\n",
        "    for j in range(i):\n",
        "        assert cost_matrix[i][j] == cost_matrix[j][i], f'Cost matrix fails to be symmetric at entries {(i,j)} and {(j,i)}'\n",
        "print('Structure of your cost matrix looks OK (3 points).')\n",
        "\n",
        "# MST based TSP approximation\n",
        "def minimum_spanning_tree_tsp(n, cost_matrix):\n",
        "    G = nx.Graph()\n",
        "    for i in range(n):\n",
        "        for j in range(i):\n",
        "            G.add_edge(i, j, weight=cost_matrix[i][j])\n",
        "    T = nx.minimum_spanning_tree(G)\n",
        "    print(f'MST for your graph has the edges {T.edges}')\n",
        "    mst_cost = 0\n",
        "    mst_dict = {} # store mst as a dictionary\n",
        "    for (i,j) in T.edges:\n",
        "        mst_cost += cost_matrix[i][j]\n",
        "        if i in mst_dict:\n",
        "            mst_dict[i].append(j)\n",
        "        else:\n",
        "            mst_dict[i] = [j]\n",
        "        if j in mst_dict:\n",
        "            mst_dict[j].append(i)\n",
        "        else:\n",
        "            mst_dict[j] = [i]\n",
        "    print(f'MST cost: {mst_cost}')\n",
        "    print(mst_dict)\n",
        "    # Let's form a tour with short cutting\n",
        "    def traverse_mst(tour_so_far, cur_node):\n",
        "        assert cur_node in mst_dict\n",
        "        next_nodes = mst_dict[cur_node]\n",
        "        for j in next_nodes:\n",
        "            if j in tour_so_far:\n",
        "                continue\n",
        "            tour_so_far.append(j)\n",
        "            traverse_mst(tour_so_far, j)\n",
        "        return\n",
        "    tour = [0]\n",
        "    traverse_mst(tour, 0)\n",
        "    i = 0\n",
        "    tour_cost = 0\n",
        "    for j in tour[1:]:\n",
        "        tour_cost += cost_matrix[i][j]\n",
        "        i = j\n",
        "    tour_cost += cost_matrix[i][0]\n",
        "    return tour, tour_cost\n",
        "\n",
        "# Exact TSP solution using MTZ encoding\n",
        "def mtz_encoding_tsp(n, cost_matrix):\n",
        "    assert len(cost_matrix) == n, f'Cost matrix is not {n}x{n}'\n",
        "    assert all(len(cj) == n for cj in cost_matrix), f'Cost matrix is not {n}x{n}'\n",
        "    # create our encoding variables\n",
        "    binary_vars = [ # add a binary variable x_{ij} if i not = j else simply add None\n",
        "        [ LpVariable(f'x_{i}_{j}', cat='Binary') if i != j else None for j in range(n)]\n",
        "        for i in range(n) ]\n",
        "    # add time stamps for ranges 1 .. n (skip vertex 0 for timestamps)\n",
        "    time_stamps = [LpVariable(f't_{j}', lowBound=0, upBound=n, cat='Continuous') for j in range(1, n)]\n",
        "    # create the problem\n",
        "    prob = LpProblem('TSP-MTZ', LpMinimize)\n",
        "    # create add the objective function\n",
        "    objective_function = lpSum( [ lpSum([xij*cj if xij != None else 0 for (xij, cj) in zip(brow, crow) ])\n",
        "                           for (brow, crow) in zip(binary_vars, cost_matrix)] )\n",
        "\n",
        "    prob += objective_function\n",
        "\n",
        "    # add the degree constraints\n",
        "    for i in range(n):\n",
        "        # Exactly one leaving variable\n",
        "        prob += lpSum([xj for xj in binary_vars[i] if xj != None]) == 1\n",
        "        # Exactly one entering\n",
        "        prob += lpSum([binary_vars[j][i] for j in range(n) if j != i]) == 1\n",
        "    # add time stamp constraints\n",
        "    for i in range(1,n):\n",
        "        for j in range(1, n):\n",
        "            if i == j:\n",
        "                continue\n",
        "            xij = binary_vars[i][j]\n",
        "            ti = time_stamps[i-1]\n",
        "            tj = time_stamps[j -1]\n",
        "            prob += tj >= ti + xij - (1-xij)*(n+1) # add the constraint\n",
        "    # Done: solve the problem\n",
        "    status = prob.solve(PULP_CBC_CMD(msg=False)) # turn off messages\n",
        "    assert status == constants.LpStatusOptimal, f'Unexpected non-optimal status {status}'\n",
        "    # Extract the tour\n",
        "    tour = [0]\n",
        "    tour_cost = 0\n",
        "    while len(tour) < n:\n",
        "        i = tour[-1]\n",
        "        # find all indices j such that x_ij >= 0.999\n",
        "        sols = [j for (j, xij) in enumerate(binary_vars[i]) if xij != None and xij.varValue >= 0.999]\n",
        "        assert len(sols) == 1, f'{sols}' # there better be just one such vertex or something has gone quite wrong\n",
        "        j = sols[0] # extract the lone solutio\n",
        "        tour_cost = tour_cost + cost_matrix[i][j] # add to the tour cost\n",
        "        tour.append(j) # append to the tour\n",
        "        assert j != 0\n",
        "    i = tour[-1]\n",
        "    tour_cost = tour_cost + cost_matrix[i][0]\n",
        "    return tour, tour_cost\n",
        "\n",
        "# Test that exact answer is 10^6 times smaller than approximate answer\n",
        "tour, tour_cost = minimum_spanning_tree_tsp(5, cost_matrix)\n",
        "print(f'MST approximation yields tour: {tour} with cost {tour_cost}')\n",
        "\n",
        "opt_tour, opt_tour_cost = mtz_encoding_tsp(5, cost_matrix)\n",
        "print(f'Optimal tour: {opt_tour} with cost {opt_tour_cost}')\n",
        "\n",
        "# Check that the fraction is 1 million times apart\n",
        "print('Test passed: 7 points')"
      ],
      "metadata": {
        "colab": {
          "base_uri": "https://localhost:8080/"
        },
        "id": "QxD1NwNOHXn_",
        "outputId": "f16ebd1c-50d4-4206-c1eb-05e34db9cec9"
      },
      "execution_count": 188,
      "outputs": [
        {
          "output_type": "stream",
          "name": "stdout",
          "text": [
            "Structure of your cost matrix looks OK (3 points).\n",
            "MST for your graph has the edges [(1, 0), (1, 2), (1, 3), (0, 4)]\n",
            "MST cost: 4\n",
            "{1: [0, 2, 3], 0: [1, 4], 2: [1], 3: [1], 4: [0]}\n",
            "MST approximation yields tour: [0, 1, 2, 3, 4] with cost 5\n",
            "Optimal tour: [0, 4, 3, 2, 1] with cost 5\n",
            "Test passed: 7 points\n"
          ]
        }
      ]
    },
    {
      "cell_type": "markdown",
      "source": [
        "#Problem 3"
      ],
      "metadata": {
        "id": "QM9OYmuQRCTj"
      }
    },
    {
      "cell_type": "code",
      "source": [
        "from pulp import *\n",
        "\n",
        "def tsp_with_extra_constraints(n, cost_matrix, constraints):\n",
        "    assert len(cost_matrix) == n, f'Cost matrix is not {n}x{n}'\n",
        "    assert all(len(cj) == n for cj in cost_matrix), f'Cost matrix is not {n}x{n}'\n",
        "    assert all(1 <= i < n and 1 <= j < n and i != j for (i, j) in constraints)\n",
        "\n",
        "    prob = LpProblem('TSP_With_Extra_Constraints', LpMinimize)\n",
        "\n",
        "    # Decision Variables\n",
        "    x = [[LpVariable(f'x_{i}_{j}', cat='Binary') if i != j else None for j in range(n)] for i in range(n)]\n",
        "\n",
        "    # Objective Function\n",
        "    objective = lpSum([cost_matrix[i][j] * x[i][j] for i in range(n) for j in range(n) if i != j])\n",
        "    prob += objective\n",
        "\n",
        "    # Constraints\n",
        "    for i in range(n):\n",
        "        prob += lpSum(x[i][j] for j in range(n) if i != j) == 1\n",
        "        prob += lpSum(x[j][i] for j in range(n) if i != j) == 1\n",
        "\n",
        "    for (i, j) in constraints:\n",
        "        prob += lpSum(x[i][k] for k in range(n) if k != i and k != j) <= lpSum(x[j][k] for k in range(n) if k != i and k != j)\n",
        "\n",
        "    # Solve the problem\n",
        "    status = prob.solve(PULP_CBC_CMD(msg=False))\n",
        "    assert status == constants.LpStatusOptimal, f'Unexpected non-optimal status {status}'\n",
        "\n",
        "    # Extract the optimal tour\n",
        "    tour = [0]\n",
        "    current_node = 0\n",
        "    while len(tour) < n:\n",
        "        next_node = [j for j in range(n) if j != current_node and value(x[current_node][j]) == 1][0]\n",
        "        tour.append(next_node)\n",
        "        current_node = next_node\n",
        "\n",
        "    return tour"
      ],
      "metadata": {
        "id": "5avA2jU2RHDl"
      },
      "execution_count": 189,
      "outputs": []
    },
    {
      "cell_type": "markdown",
      "source": [
        "#Test 1"
      ],
      "metadata": {
        "id": "U58Zwoa_V7OQ"
      }
    },
    {
      "cell_type": "code",
      "source": [
        "cost_matrix=[ [None,3,4,3,5],\n",
        "             [1, None, 2,4, 1],\n",
        "             [2, 1, None, 5, 4],\n",
        "             [1, 1, 5, None, 4],\n",
        "             [2, 1, 3, 5, None] ]\n",
        "n=5\n",
        "constraints = [(3,4),(1,2)]\n",
        "tour = tsp_with_extra_constraints(n, cost_matrix, constraints)\n",
        "i = 0\n",
        "tour_cost = 0\n",
        "for j in tour[1:]:\n",
        "    tour_cost += cost_matrix[i][j]\n",
        "    i = j\n",
        "tour_cost += cost_matrix[i][0]\n",
        "print(f'Tour:{tour}')\n",
        "print(f'Cost of your tour: {tour_cost}')\n",
        "assert abs(tour_cost-10) <= 0.001, 'Expected cost was 10'\n",
        "for i in range(n):\n",
        "    num = sum([1 if j == i else 0 for j in tour])\n",
        "    assert  num == 1, f'Vertex {i} repeats {num} times in tour'\n",
        "for (i, j) in constraints:\n",
        "    assert tour.index(i) < tour.index(j), f'Tour does not respect constraint {(i,j)}'\n",
        "print('Test Passed (3 points)')"
      ],
      "metadata": {
        "colab": {
          "base_uri": "https://localhost:8080/"
        },
        "id": "oLsyXFvpSVND",
        "outputId": "4936b5bb-2f2e-4941-e5cc-1aff0fae2e90"
      },
      "execution_count": 190,
      "outputs": [
        {
          "output_type": "stream",
          "name": "stdout",
          "text": [
            "Tour:[0, 3, 1, 4, 2]\n",
            "Cost of your tour: 10\n",
            "Test Passed (3 points)\n"
          ]
        }
      ]
    },
    {
      "cell_type": "markdown",
      "source": [
        "#Test 2"
      ],
      "metadata": {
        "id": "KzVFid8sV9NI"
      }
    },
    {
      "cell_type": "code",
      "source": [
        "cost_matrix=[ [None,3,4,3,5],\n",
        "             [1, None, 2,4, 1],\n",
        "             [2, 1, None, 5, 4],\n",
        "             [1, 1, 5, None, 4],\n",
        "             [2, 1, 3, 5, None] ]\n",
        "n=5\n",
        "constraints = [(4,3),(1,2)]\n",
        "tour = tsp_with_extra_constraints(n, cost_matrix, constraints)\n",
        "i = 0\n",
        "tour_cost = 0\n",
        "for j in tour[1:]:\n",
        "    tour_cost += cost_matrix[i][j]\n",
        "    i = j\n",
        "tour_cost += cost_matrix[i][0]\n",
        "print(f'Tour:{tour}')\n",
        "print(f'Cost of your tour: {tour_cost}')\n",
        "\n",
        "# Check if constraints are respected\n",
        "for (i, j) in constraints:\n",
        "    if tour.index(i) > tour.index(j):\n",
        "        print(f'Constraint {(i, j)} is violated: {i} is visited after {j}')"
      ],
      "metadata": {
        "colab": {
          "base_uri": "https://localhost:8080/"
        },
        "id": "bgvA8kReSczH",
        "outputId": "93e7bd75-2c47-4674-d6cb-a2a3ffe2de59"
      },
      "execution_count": 198,
      "outputs": [
        {
          "output_type": "stream",
          "name": "stdout",
          "text": [
            "Tour:[0, 3, 1, 4, 2]\n",
            "Cost of your tour: 10\n",
            "Constraint (4, 3) is violated: 4 is visited after 3\n"
          ]
        }
      ]
    }
  ]
}